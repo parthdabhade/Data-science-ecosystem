{
 "cells": [
  {
   "cell_type": "markdown",
   "id": "38c42444",
   "metadata": {},
   "source": [
    "# Data Science Ecosystem"
   ]
  },
  {
   "cell_type": "markdown",
   "id": "9c0c0e62",
   "metadata": {},
   "source": [
    "In this notebook, Data Science Tools and Ecosystem are summarized.\n",
    "Some of the popular languages that Data Scientists use are:\n",
    "\n",
    "1. Python\n",
    "\n",
    "2. R\n",
    "\n",
    "3. SQL\n",
    "\n",
    "4. C++\n",
    "\n",
    "5. Java etc.\n",
    "\n",
    "Some of the commonly used libraries used by Data Scientists include:\n",
    "\n",
    "1. TensorFlow.\n",
    "\n",
    "2. NumPy.\n",
    "\n",
    "3. Scipy.\n",
    "\n",
    "4. Pandas.\n",
    "\n",
    "5. Matplotlib.\n",
    "\n",
    "6. Keras.\n",
    "\n",
    "7. Scikit-Learn.\n",
    "\n",
    "8. PyTorch, etc."
   ]
  },
  {
   "cell_type": "markdown",
   "id": "246f5378",
   "metadata": {},
   "source": [
    "|Data Science Tools|\n",
    "|---|\n",
    "|SAS|\n",
    "|Apache Hadoop|\n",
    "|TensorFlow|"
   ]
  },
  {
   "cell_type": "markdown",
   "id": "a05e20a8",
   "metadata": {},
   "source": [
    "## this is a common arithmetic example to multiply and then add integers"
   ]
  },
  {
   "cell_type": "code",
   "execution_count": 8,
   "id": "b5085646",
   "metadata": {},
   "outputs": [
    {
     "data": {
      "text/plain": [
       "4"
      ]
     },
     "execution_count": 8,
     "metadata": {},
     "output_type": "execute_result"
    }
   ],
   "source": [
    "#this is a common arithmetic example to multiply and then add integers \n",
    "(3-4)+5"
   ]
  },
  {
   "cell_type": "code",
   "execution_count": 11,
   "id": "0c8c4ee8",
   "metadata": {},
   "outputs": [
    {
     "data": {
      "text/plain": [
       "3.3333333333333335"
      ]
     },
     "execution_count": 11,
     "metadata": {},
     "output_type": "execute_result"
    }
   ],
   "source": [
    "#This will convert 200 minutes to hours by diving by 60\n",
    "\n",
    "200/60"
   ]
  },
  {
   "cell_type": "markdown",
   "id": "cb45159c",
   "metadata": {},
   "source": [
    "## Objective:\n",
    "\n",
    "•List popular languages for Data Science\n",
    "\n",
    "• List popular libraries for Data Science\n",
    "\n",
    "• List of Well known Data Science Tools\n",
    "\n",
    "• How to Provide comments in the cell\n",
    "\n"
   ]
  },
  {
   "cell_type": "markdown",
   "id": "65eddeb7",
   "metadata": {},
   "source": [
    "# Author\n",
    "\n",
    "### Gourav Kumar"
   ]
  },
  {
   "cell_type": "code",
   "execution_count": null,
   "id": "7643b4a6",
   "metadata": {},
   "outputs": [],
   "source": []
  }
 ],
 "metadata": {
  "kernelspec": {
   "display_name": "Python 3 (ipykernel)",
   "language": "python",
   "name": "python3"
  },
  "language_info": {
   "codemirror_mode": {
    "name": "ipython",
    "version": 3
   },
   "file_extension": ".py",
   "mimetype": "text/x-python",
   "name": "python",
   "nbconvert_exporter": "python",
   "pygments_lexer": "ipython3",
   "version": "3.11.3"
  }
 },
 "nbformat": 4,
 "nbformat_minor": 5
}
